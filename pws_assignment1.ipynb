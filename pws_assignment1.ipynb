{
 "cells": [
  {
   "cell_type": "code",
   "execution_count": 6,
   "id": "1b1004c4",
   "metadata": {},
   "outputs": [
    {
     "name": "stdout",
     "output_type": "stream",
     "text": [
      "who developed python programming language? Ans= Guido van Rossum\n"
     ]
    }
   ],
   "source": [
    "q1=input(\"who developed python programming language? Ans= \")"
   ]
  },
  {
   "cell_type": "code",
   "execution_count": 5,
   "id": "45df0ad7",
   "metadata": {},
   "outputs": [
    {
     "name": "stdout",
     "output_type": "stream",
     "text": [
      "which type of programming does python support? Ans= python supports structured and object oriented programming\n"
     ]
    }
   ],
   "source": [
    "q2=input(\"which type of programming does python support? Ans= \")"
   ]
  },
  {
   "cell_type": "markdown",
   "id": "255cf21b",
   "metadata": {},
   "source": [
    "Ans= python supports structured and object oriented programming"
   ]
  },
  {
   "cell_type": "markdown",
   "id": "bad3065c",
   "metadata": {},
   "source": [
    "Q3. Is Python case sensitive when dealing with identifier?"
   ]
  },
  {
   "cell_type": "code",
   "execution_count": null,
   "id": "5bb4c48a",
   "metadata": {},
   "outputs": [],
   "source": [
    "Ans: Yes, Python is case sensitive when dealing with identifier"
   ]
  },
  {
   "cell_type": "markdown",
   "id": "20a732cb",
   "metadata": {},
   "source": [
    "Q4. What is the correct extension of the Python file?"
   ]
  },
  {
   "cell_type": "markdown",
   "id": "ce0f6710",
   "metadata": {},
   "source": [
    "Ans: .py is the correct extension of python file"
   ]
  },
  {
   "cell_type": "markdown",
   "id": "51d1f709",
   "metadata": {},
   "source": [
    "Q5. Is python code compiled or interpreted?"
   ]
  },
  {
   "cell_type": "code",
   "execution_count": null,
   "id": "631eca2b",
   "metadata": {},
   "outputs": [],
   "source": [
    "Ans: Python code is interpreted."
   ]
  },
  {
   "cell_type": "code",
   "execution_count": null,
   "id": "982b5419",
   "metadata": {},
   "outputs": [],
   "source": []
  }
 ],
 "metadata": {
  "kernelspec": {
   "display_name": "Python 3",
   "language": "python",
   "name": "python3"
  },
  "language_info": {
   "codemirror_mode": {
    "name": "ipython",
    "version": 3
   },
   "file_extension": ".py",
   "mimetype": "text/x-python",
   "name": "python",
   "nbconvert_exporter": "python",
   "pygments_lexer": "ipython3",
   "version": "3.8.8"
  }
 },
 "nbformat": 4,
 "nbformat_minor": 5
}
